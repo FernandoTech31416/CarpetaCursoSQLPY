{
 "cells": [
  {
   "cell_type": "code",
   "execution_count": null,
   "metadata": {},
   "outputs": [],
   "source": []
  },
  {
   "attachments": {},
   "cell_type": "markdown",
   "metadata": {},
   "source": [
    "# Esto es una celda de texto"
   ]
  },
  {
   "cell_type": "code",
   "execution_count": 1,
   "metadata": {},
   "outputs": [
    {
     "name": "stdout",
     "output_type": "stream",
     "text": [
      "4+4= 8\n",
      "5*4= 20\n",
      "20 / 5= 4.0\n",
      "2 ** 3= 8\n",
      "4 ** (0.5)= 2.0\n",
      "8 ** (1/3)= 2.0\n"
     ]
    }
   ],
   "source": [
    "# La funcion print() imprime el valor que se encuentra\n",
    "# dentro del parentesis\n",
    "\n",
    "# Suma\n",
    "print(\"4+4=\", 4 + 4)\n",
    "\n",
    "# Mult\n",
    "print(\"5*4=\", 5 * 4)\n",
    "\n",
    "# Div\n",
    "print(\"20 / 5=\", 20 / 5)\n",
    "\n",
    "# potencias\n",
    "print(\"2 ** 3=\", 2 ** 3)\n",
    "\n",
    "# Calcular la raiz cuadrada de 4\n",
    "print(\"4 ** (0.5)=\", 4 ** (0.5))\n",
    "\n",
    "# Calcular la raiz cubica de 8\n",
    "print(\"8 ** (1/3)=\", 8 ** (1/3))"
   ]
  }
 ],
 "metadata": {
  "kernelspec": {
   "display_name": "Python 3",
   "language": "python",
   "name": "python3"
  },
  "language_info": {
   "codemirror_mode": {
    "name": "ipython",
    "version": 3
   },
   "file_extension": ".py",
   "mimetype": "text/x-python",
   "name": "python",
   "nbconvert_exporter": "python",
   "pygments_lexer": "ipython3",
   "version": "3.10.4"
  },
  "orig_nbformat": 4
 },
 "nbformat": 4,
 "nbformat_minor": 2
}
